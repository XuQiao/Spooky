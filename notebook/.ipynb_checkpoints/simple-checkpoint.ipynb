{
 "cells": [
  {
   "cell_type": "markdown",
   "metadata": {
    "_cell_guid": "75f43a03-d83d-4551-ac9a-4ac4d0764b32",
    "_uuid": "668599ac03c8b70093377c7250cd34e93ba6cffe"
   },
   "source": [
    "## Simple Bayes classifier and Logistic regression\n"
   ]
  },
  {
   "cell_type": "code",
   "execution_count": 17,
   "metadata": {
    "_cell_guid": "0456a8ef-0aca-4b40-8199-0e4fdec81671",
    "_uuid": "025540f501355cfb33e6bc256ad3c0980793d0fd"
   },
   "outputs": [
    {
     "name": "stdout",
     "output_type": "stream",
     "text": [
      "log_loss =  5.57418454586\n"
     ]
    }
   ],
   "source": [
    "import pandas as pd\n",
    "\n",
    "from sklearn.preprocessing import LabelEncoder\n",
    "from sklearn.preprocessing import LabelBinarizer\n",
    "\n",
    "from sklearn.feature_extraction.text import CountVectorizer\n",
    "from sklearn.linear_model import Perceptron\n",
    "from sklearn.linear_model import LogisticRegression\n",
    "from sklearn.pipeline import Pipeline\n",
    "from sklearn.naive_bayes import MultinomialNB\n",
    "from sklearn import metrics\n",
    "\n",
    "from sklearn.model_selection import train_test_split\n",
    "\n",
    "trainall_df = pd.read_csv(\"../input/train.csv\")\n",
    "train_df_X, test_df_X, train_df_Y, test_df_Y = train_test_split(trainall_df.text, trainall_df.author, test_size = 0.2, random_state = 1)\n",
    "#test_df = pd.read_csv(\"../input/test.csv\")\n",
    "\n",
    "unigrams_pipeline = Pipeline([('text', CountVectorizer()),('mnb', MultinomialNB())])\n",
    "#unigrams_pipeline = Pipeline([('text', CountVectorizer()),('Perp', Perceptron())])\n",
    "#unigrams_pipeline = Pipeline([('text', CountVectorizer()),('Perp', LogisticRegression())])\n",
    "\n",
    "\n",
    "unigrams_pipeline.fit(train_df_X, train_df_Y)\n",
    "\n",
    "test_df_Y = LabelBinarizer().fit_transform(test_df_Y)\n",
    "\n",
    "#predictions = unigrams_pipeline.predict_proba(test_df_X)\n",
    "predictions = unigrams_pipeline.predict(test_df_X)\n",
    "predictions = LabelBinarizer().fit_transform(predictions)\n",
    "score = metrics.log_loss(test_df_Y, predictions)\n",
    "# score = mts.f1_score(test_df_Y, predictions, labels=['EAP','HPL','MWS'], pos_label=0, average='weighted', sample_weight=None)\n",
    "\n",
    "# Naive Bayes gets log_loss = 0.487134977592\n",
    "# Simple Perceptron gets log_loss = 7.14412892745\n",
    "# Simple Logistic Regression gets log_loss = 6.315057171537\n",
    "print('log_loss = ', score)\n",
    "\n",
    "# print out to a output file\n",
    "# predictions = pd.DataFrame(\n",
    "#    unigrams_pipeline.predict_proba(test_df.text),\n",
    "#    columns=unigrams_pipeline.classes_\n",
    "#                           )\n",
    "#predictions['id'] = test_df['id']\n",
    "#predictions.to_csv(\"submission.csv\", index=False, columns=['id','EAP','HPL','MWS'])"
   ]
  }
 ],
 "metadata": {
  "kernelspec": {
   "display_name": "Python 3",
   "language": "python",
   "name": "python3"
  },
  "language_info": {
   "codemirror_mode": {
    "name": "ipython",
    "version": 3
   },
   "file_extension": ".py",
   "mimetype": "text/x-python",
   "name": "python",
   "nbconvert_exporter": "python",
   "pygments_lexer": "ipython3",
   "version": "3.5.2"
  }
 },
 "nbformat": 4,
 "nbformat_minor": 1
}
