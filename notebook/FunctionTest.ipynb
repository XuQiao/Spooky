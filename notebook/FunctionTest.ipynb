{
 "cells": [
  {
   "cell_type": "markdown",
   "metadata": {},
   "source": [
    "Test notebook for function usages"
   ]
  },
  {
   "cell_type": "code",
   "execution_count": 42,
   "metadata": {},
   "outputs": [
    {
     "name": "stdout",
     "output_type": "stream",
     "text": [
      "0.0743811837714\n",
      "8.63469409873\n",
      "11.512925465\n",
      "-34.5387763949\n",
      "0.9533333333333334 1.6118095651 1.6118095650953321\n"
     ]
    }
   ],
   "source": [
    "import numpy as np\n",
    "from sklearn import metrics\n",
    "\n",
    "# how to calculate log_loss\n",
    "y_true = np.array([0, 1, 2])\n",
    "y_pred = np.array([[1,0,0], [0.1,0.8,0.1], [0,0,1]])\n",
    "log_loss = metrics.log_loss(y_true, y_pred)\n",
    "print(log_loss)\n",
    "                   \n",
    "y_true = np.array([0,1,2,1])\n",
    "y_pred = np.array([[1,0,0], [0,0,1], [0,0,1],[0,1,0]])\n",
    "log_loss = metrics.log_loss(y_true, y_pred)\n",
    "print(log_loss)\n",
    "print(-1./3 * (1*np.log(1e-15)))\n",
    "\n",
    "m = 15000.\n",
    "corr = 14300.\n",
    "print(np.log(1e-15))\n",
    "log_loss = -1/m*(0*corr+np.log(1e-15)*(m-corr))\n",
    "acc = corr / m\n",
    "print(acc, log_loss, 34.5387763949 *(1-acc))"
   ]
  },
  {
   "cell_type": "code",
   "execution_count": null,
   "metadata": {},
   "outputs": [],
   "source": []
  }
 ],
 "metadata": {
  "kernelspec": {
   "display_name": "Python 3",
   "language": "python",
   "name": "python3"
  },
  "language_info": {
   "codemirror_mode": {
    "name": "ipython",
    "version": 3
   },
   "file_extension": ".py",
   "mimetype": "text/x-python",
   "name": "python",
   "nbconvert_exporter": "python",
   "pygments_lexer": "ipython3",
   "version": "3.5.2"
  }
 },
 "nbformat": 4,
 "nbformat_minor": 2
}
